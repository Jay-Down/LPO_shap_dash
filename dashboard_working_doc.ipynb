{
 "cells": [
  {
   "cell_type": "code",
   "execution_count": 3,
   "metadata": {},
   "outputs": [],
   "source": [
    "import pandas as pd\n",
    "import numpy as np\n",
    "import IPython.display as ipd\n",
    "import matplotlib.pyplot as plt\n",
    "import matplotlib.gridspec as gridspec\n",
    "import ipywidgets as widgets\n",
    "from ipywidgets import interact, interactive, fixed, interact_manual, Layout\n",
    "import io\n",
    "\n",
    "import scipy.stats as st\n",
    "import statsmodels.stats.api as sms\n",
    "import matplotlib.pyplot as plt\n",
    "import matplotlib.colors as mcolors\n",
    "import seaborn as sns\n",
    "import shap\n",
    "from sklearn.preprocessing import KBinsDiscretizer\n"
   ]
  },
  {
   "cell_type": "code",
   "execution_count": 4,
   "metadata": {},
   "outputs": [],
   "source": [
    "#### 0.0 Data Load ####"
   ]
  },
  {
   "cell_type": "code",
   "execution_count": 5,
   "metadata": {},
   "outputs": [],
   "source": [
    "data = pd.read_pickle('./top_60_data.pkl')\n",
    "data = data.reset_index(drop=True)"
   ]
  },
  {
   "cell_type": "code",
   "execution_count": 6,
   "metadata": {},
   "outputs": [],
   "source": [
    "shaps = pd.read_pickle('./top_60_shap_df.pkl')"
   ]
  },
  {
   "cell_type": "code",
   "execution_count": 7,
   "metadata": {},
   "outputs": [],
   "source": [
    "#### 1.0 Widgets ####"
   ]
  },
  {
   "cell_type": "code",
   "execution_count": 8,
   "metadata": {},
   "outputs": [],
   "source": [
    "# check dtypes - some conts as cats\n",
    "\n",
    "cont_idxs = data.columns[np.where(data.dtypes!='category')]\n",
    "cat_idxs = data.columns[np.where(data.dtypes=='category')]"
   ]
  },
  {
   "cell_type": "code",
   "execution_count": 35,
   "metadata": {},
   "outputs": [],
   "source": [
    "cat_drops = [\n",
    "    'prev views COMME DES GARCONS COMME DES GARCONS',\n",
    "    'prev views GROUND ZERO', \n",
    "    'prev views DIESEL RED TAG',\n",
    "    'num checkout past week', \n",
    "    'prev views NIKE KIDS',\n",
    "    'prev views AMIR SLAMA',\n",
    "    'prev views Boat Shoes'\n",
    "]"
   ]
  },
  {
   "cell_type": "code",
   "execution_count": null,
   "metadata": {},
   "outputs": [],
   "source": [
    "cat_idxs = cat_idxs.drop(cat_drops)"
   ]
  },
  {
   "cell_type": "code",
   "execution_count": 39,
   "metadata": {},
   "outputs": [],
   "source": [
    "cont_drops = [\n",
    "    'land basket qty',\n",
    "    'avg prev unique action per view',\n",
    "]"
   ]
  },
  {
   "cell_type": "code",
   "execution_count": 40,
   "metadata": {},
   "outputs": [],
   "source": [
    "cont_idxs = cont_idxs.drop(cont_drops)"
   ]
  },
  {
   "cell_type": "code",
   "execution_count": 9,
   "metadata": {},
   "outputs": [],
   "source": [
    "cont_dd = widgets.Dropdown(\n",
    "    options=cont_idxs,\n",
    "    value=cont_idxs[0],\n",
    "    description='',\n",
    "    disabled=False,\n",
    ")"
   ]
  },
  {
   "cell_type": "code",
   "execution_count": 10,
   "metadata": {},
   "outputs": [],
   "source": [
    "cat_dd = widgets.Dropdown(\n",
    "    options=cat_idxs,\n",
    "    value=cat_idxs[0],\n",
    "    description='',\n",
    "    disabled=False,\n",
    ")"
   ]
  },
  {
   "cell_type": "code",
   "execution_count": 11,
   "metadata": {},
   "outputs": [],
   "source": [
    "y_axis_checkbox = widgets.Checkbox(\n",
    "    value=False,\n",
    "    description='Same y-axis scales',\n",
    "    disabled=False,\n",
    "    indent=False\n",
    "\n",
    ")"
   ]
  },
  {
   "cell_type": "code",
   "execution_count": 12,
   "metadata": {},
   "outputs": [],
   "source": [
    "min_max_slider = widgets.FloatRangeSlider(\n",
    "    value=[0, data[cont_dd.value].max()],\n",
    "    min=0,#data[cont_dd.value].min(),\n",
    "    max=data[cont_dd.value].max(),\n",
    "    step=0.1,\n",
    "    description='',\n",
    "    disabled=False,\n",
    "    continuous_update=False,\n",
    "    orientation='horizontal',\n",
    "    readout=True,\n",
    "    readout_format='.1f',\n",
    ")"
   ]
  },
  {
   "cell_type": "code",
   "execution_count": 13,
   "metadata": {},
   "outputs": [],
   "source": [
    "z_val_tb = widgets.FloatText(\n",
    "    value=3.0,\n",
    "    description='z score:',\n",
    "    disabled=False,\n",
    "    #layout=Layout(width='33%')\n",
    ")"
   ]
  },
  {
   "cell_type": "code",
   "execution_count": 14,
   "metadata": {},
   "outputs": [],
   "source": [
    "# need a limit on number of categories to display"
   ]
  },
  {
   "cell_type": "code",
   "execution_count": 15,
   "metadata": {},
   "outputs": [],
   "source": [
    "#### 2.0 Functions ####"
   ]
  },
  {
   "cell_type": "code",
   "execution_count": 16,
   "metadata": {},
   "outputs": [],
   "source": [
    "def min_max_slider_range(change):\n",
    "    #col = cont_dd.value\n",
    "    col = change.new\n",
    "    vals = data[col]\n",
    "    vals_outlier_mask = (pd.Series(np.abs(st.zscore(vals)) < z_val_tb.value))\n",
    "    vals = vals.loc[vals_outlier_mask]\n",
    "    min_max_slider.min = vals.min()\n",
    "    min_max_slider.max = vals.max()\n",
    "    min_max_slider.value = (0, vals.max())"
   ]
  },
  {
   "cell_type": "code",
   "execution_count": 17,
   "metadata": {},
   "outputs": [],
   "source": [
    "cont_dd.observe(min_max_slider_range, names='value')"
   ]
  },
  {
   "cell_type": "code",
   "execution_count": 121,
   "metadata": {},
   "outputs": [],
   "source": [
    "def cat_summary(col):\n",
    "\n",
    "    stat_dict = {}\n",
    "    categories = data[col].unique()\n",
    "    column_shaps = shaps[col]\n",
    "    var = data[col]\n",
    "    #mean_shaps = column_shaps.mean()\n",
    "    \n",
    "    for cat in categories:\n",
    "        \n",
    "        shap_subset = shaps.loc[var==cat, col]\n",
    "        mean_shap_subset = shap_subset.mean()\n",
    "        \n",
    "        counterfactual = shaps.loc[var!=cat, col]\n",
    "        counterfactual_mean = shaps.loc[var!=cat, col].mean()\n",
    "        \n",
    "        # effect size\n",
    "        mean_diff_shaps = mean_shap_subset - counterfactual_mean\n",
    "        \n",
    "        # statistical inference (confidence intervals and p values) for differences in means \n",
    "        cm_total = sms.CompareMeans(sms.DescrStatsW(shap_subset), sms.DescrStatsW(counterfactual))\n",
    "        total_diff_conf_int = cm_total.tconfint_diff(usevar='unequal')\n",
    "        total_diff_p_val = cm_total.ttest_ind(usevar='unequal')[1]\n",
    "        \n",
    "        # Dictionary of Summary Stats\n",
    "        stat_dict[cat] = {'Mean SHAP': round(mean_shap_subset,4),\n",
    "                          'Average Effect of Feature Value on SHAP': round(mean_diff_shaps,4),\n",
    "                          'CI Lower':round(float(total_diff_conf_int[0]),4),\n",
    "                          'CI Upper':round(float(total_diff_conf_int[1]),4),\n",
    "                          'p value':round(float(total_diff_p_val),4)\n",
    "                       }\n",
    "        \n",
    "    summary = pd.DataFrame(stat_dict).T.sort_values('Mean SHAP', ascending=True)\n",
    "    \n",
    "    return summary"
   ]
  },
  {
   "cell_type": "code",
   "execution_count": 122,
   "metadata": {},
   "outputs": [],
   "source": [
    "def display_results(func):\n",
    "    def inner(*args, **kwargs):\n",
    "        results = func(*args, **kwargs)\n",
    "        display(results)\n",
    "    return inner"
   ]
  },
  {
   "cell_type": "code",
   "execution_count": 20,
   "metadata": {},
   "outputs": [],
   "source": [
    "@display_results\n",
    "def display_cat_summary(*args, **kwargs):\n",
    "    return cat_summary(*args, **kwargs)"
   ]
  },
  {
   "cell_type": "code",
   "execution_count": 60,
   "metadata": {},
   "outputs": [],
   "source": [
    "#@cat_vis_interactive.capture(clear_output=True, wait=True)\n",
    "def cat_vis(col, sharey): \n",
    "\n",
    "    col_shaps = shaps[col]\n",
    "    col_data = data[col]\n",
    "    summary_data = cat_summary(col)\n",
    "    row_order = summary_data.index\n",
    "    \n",
    "    joined_instance = pd.concat([col_data, col_shaps], axis=1)\n",
    "    joined_instance.columns = [col, col+' SHAP']\n",
    "    g = sns.FacetGrid(joined_instance, row=col, aspect=5, height=2, sharey=sharey, row_order=row_order)\n",
    "    \n",
    "    for ax, row in zip(g.axes, g.row_names):\n",
    "        ax[0].axvline(0, lw=1, ls='dashed', c='black')\n",
    "        shap_subset = col_shaps.loc[col_data==row]\n",
    "        mask_alpha = (shap_subset > 0)\n",
    "        bins = np.linspace(min(shap_subset),max(shap_subset), int(np.sqrt(shap_subset.size)))\n",
    "        ax[0].hist(shap_subset, bins=bins, histtype='bar',color=sns.xkcd_rgb[\"windows blue\"],lw=0)\n",
    "        ax[0].hist(shap_subset[mask_alpha], bins=bins, histtype='bar',color=sns.xkcd_rgb[\"light red\"],lw=0)\n",
    "        row = 'NULL' if row==-999 else row\n",
    "        ax[0].set_title('{} = {}'.format(col, row), )\n",
    "\n",
    "    g.set_xlabels('SHAP values for {}'.format(col), **label_kwargs)\n",
    "    #g.set_ylabels('Count of visits', **label_kwargs)\n",
    "    #g.set_title(\"Relationship between {} & SHAP Values\".format(col), **title_kwargs)\n",
    "    #g.set(yticks=[])\n",
    "    #g.despine(left=True)\n",
    "    plt.show()\n"
   ]
  },
  {
   "cell_type": "code",
   "execution_count": 51,
   "metadata": {},
   "outputs": [],
   "source": [
    "def cont_vis(\n",
    "    col,\n",
    "    z_val=3,\n",
    "    min_max=None\n",
    "    ):\n",
    "    \n",
    "    vals = data[col]\n",
    "    vals_outlier_mask = (pd.Series(np.abs(st.zscore(vals)) < z_val))\n",
    "    vals_nan_mask = vals!=-999\n",
    "    \n",
    "    col_shaps = shaps[col]\n",
    "    \n",
    "    vals = vals.loc[vals_outlier_mask].loc[vals_nan_mask]\n",
    "    \n",
    "    col_shaps = col_shaps.loc[vals_outlier_mask].loc[vals_nan_mask]\n",
    "    \n",
    "    min_val, max_val = min_max if min_max else None\n",
    "        \n",
    "    if max_val:\n",
    "        ulim = (vals < max_val)\n",
    "        vals = vals.loc[ulim]\n",
    "        col_shaps = col_shaps.loc[ulim]\n",
    "        \n",
    "    if min_val:\n",
    "        llim = (vals > min_val)\n",
    "        vals = vals.loc[llim]\n",
    "        col_shaps = col_shaps.loc[llim]\n",
    "                \n",
    "    sns.set(**sns_set_kwargs)\n",
    "    \n",
    "    g = sns.JointGrid(x=vals, y=col_shaps, height=8, space=0.4)\n",
    "    g.fig.set_figwidth(16)\n",
    "    \n",
    "    offset = mcolors.TwoSlopeNorm(\n",
    "        vmin=col_shaps.min(),\n",
    "        vcenter=0.,\n",
    "        vmax=col_shaps.max()\n",
    "    )\n",
    "\n",
    "    g = g.plot_joint(\n",
    "        plt.scatter, \n",
    "        s=10, \n",
    "        c=np.array(offset(col_shaps.values)), \n",
    "        cmap=sns.diverging_palette(h_neg=240, h_pos=10, as_cmap=True)\n",
    "    )\n",
    "    \n",
    "    try:\n",
    "        g = g.plot_marginals(sns.distplot, kde=True, color=\".5\")\n",
    "    except RuntimeError as re:\n",
    "        if str(re).startswith(\"Selected KDE bandwidth is 0. Cannot estimate density.\"):\n",
    "            g = g.plot_marginals(sns.distplot, kde=False, color=\".5\")\n",
    "        else:\n",
    "            raise re\n",
    "    \n",
    "    g.ax_joint.axhline(0, lw=1, ls='dashed', c='black')\n",
    "    \n",
    "    g.ax_joint.set_xlabel(col+' value', **label_kwargs)\n",
    "    \n",
    "    g.ax_joint.set_ylabel(\"SHAP Values for \"+col, **label_kwargs)\n",
    "    \n",
    "    g.ax_joint.set_title(\"Relationship between \"+col+\" & SHAP Values\", **title_kwargs)\n",
    "        \n",
    "    plt.show()\n",
    "    "
   ]
  },
  {
   "cell_type": "code",
   "execution_count": 23,
   "metadata": {},
   "outputs": [],
   "source": [
    "label_kwargs = {\n",
    "    'fontstyle' : 'normal', \n",
    "    'color' : '#585858', \n",
    "    'fontsize' : 16,\n",
    "    'fontweight' : 'bold',\n",
    "}\n",
    "\n",
    "title_kwargs = {\n",
    "    'fontstyle' : 'normal', \n",
    "    'fontsize' : 16,\n",
    "    'fontweight' : 'bold',\n",
    "}\n",
    "\n",
    "sns_set_kwargs = { \n",
    "    'font_scale' : 1.2, \n",
    "    'font' : 'Arial',\n",
    "    'rc' : {'figure.figsize':(21.7,12.7)},\n",
    "}"
   ]
  },
  {
   "cell_type": "code",
   "execution_count": 24,
   "metadata": {},
   "outputs": [],
   "source": [
    "#### 3.0 Output ####"
   ]
  },
  {
   "cell_type": "markdown",
   "metadata": {},
   "source": [
    "# Most Important Features"
   ]
  },
  {
   "cell_type": "code",
   "execution_count": 25,
   "metadata": {},
   "outputs": [
    {
     "data": {
      "application/vnd.jupyter.widget-view+json": {
       "model_id": "3bab2ef691f448dcbfa4ba9fa8120341",
       "version_major": 2,
       "version_minor": 0
      },
      "text/plain": [
       "interactive(children=(IntText(value=10, description='Plot top:'), Output()), _dom_classes=('widget-interact',)…"
      ]
     },
     "metadata": {},
     "output_type": "display_data"
    }
   ],
   "source": [
    "@interact(max_display=widgets.IntText(value=10, description='Plot top:', disabled=False))\n",
    "def top_features(max_display):\n",
    "    shap.summary_plot(\n",
    "        shaps.values,\n",
    "        data,\n",
    "        plot_type='bar',\n",
    "        max_display=max_display\n",
    "    )"
   ]
  },
  {
   "cell_type": "code",
   "execution_count": 123,
   "metadata": {},
   "outputs": [],
   "source": [
    "cat_vis_interactive = widgets.interactive_output(cat_vis, {'col':cat_dd, 'sharey':y_axis_checkbox})"
   ]
  },
  {
   "cell_type": "code",
   "execution_count": 124,
   "metadata": {},
   "outputs": [],
   "source": [
    "cat_table_interactive = widgets.interactive_output(display_cat_summary, {'col':cat_dd})"
   ]
  },
  {
   "cell_type": "markdown",
   "metadata": {},
   "source": [
    "# Categorical Feature Importances"
   ]
  },
  {
   "cell_type": "code",
   "execution_count": 125,
   "metadata": {
    "scrolled": false
   },
   "outputs": [
    {
     "data": {
      "application/vnd.jupyter.widget-view+json": {
       "model_id": "34b86df833aa4de4911b741bcd54f253",
       "version_major": 2,
       "version_minor": 0
      },
      "text/plain": [
       "VBox(children=(HBox(children=(HBox(children=(Label(value='Categorical variables: '), Dropdown(index=17, option…"
      ]
     },
     "metadata": {},
     "output_type": "display_data"
    }
   ],
   "source": [
    "widgets.VBox(\n",
    "    [\n",
    "        widgets.HBox(\n",
    "            [\n",
    "                widgets.HBox([widgets.Label('Categorical variables: '), cat_dd]), \n",
    "                y_axis_checkbox\n",
    "            ]\n",
    "        ), \n",
    "        cat_table_interactive, \n",
    "        cat_vis_interactive\n",
    "    ]\n",
    ")"
   ]
  },
  {
   "cell_type": "code",
   "execution_count": 29,
   "metadata": {},
   "outputs": [],
   "source": [
    "#cont_vis_interactive = widgets.interactive(cont_vis, col=cont_dd, min_max=min_max_slider, z_val=fixed(5), z_shap=fixed(5))\n"
   ]
  },
  {
   "cell_type": "code",
   "execution_count": 52,
   "metadata": {},
   "outputs": [],
   "source": [
    "cont_vis_interactive = widgets.interactive_output(cont_vis, {'col':cont_dd, 'min_max':min_max_slider, 'z_val':z_val_tb})\n"
   ]
  },
  {
   "cell_type": "markdown",
   "metadata": {},
   "source": [
    "# Continuous Feature Importances"
   ]
  },
  {
   "cell_type": "code",
   "execution_count": 53,
   "metadata": {},
   "outputs": [
    {
     "data": {
      "application/vnd.jupyter.widget-view+json": {
       "model_id": "688dd8c466ee47f09d841e0dbdd9b256",
       "version_major": 2,
       "version_minor": 0
      },
      "text/plain": [
       "VBox(children=(HBox(children=(HBox(children=(Label(value='Continuous variables: '), Dropdown(options=('user sp…"
      ]
     },
     "metadata": {},
     "output_type": "display_data"
    }
   ],
   "source": [
    "widgets.VBox(\n",
    "    [\n",
    "        widgets.HBox(\n",
    "            [\n",
    "                widgets.HBox([widgets.Label('Continuous variables: '), cont_dd, widgets.Label('x-axis range:'), min_max_slider, z_val_tb])\n",
    "            ]\n",
    "        ), \n",
    "        cont_vis_interactive\n",
    "    ]\n",
    ")"
   ]
  },
  {
   "cell_type": "code",
   "execution_count": 32,
   "metadata": {},
   "outputs": [],
   "source": [
    "\n",
    "#design builds: \n",
    "# slice data by subsets according to feature values\n",
    "# config class to avoid global vars\n"
   ]
  },
  {
   "cell_type": "code",
   "execution_count": null,
   "metadata": {},
   "outputs": [],
   "source": []
  }
 ],
 "metadata": {
  "kernelspec": {
   "display_name": "Python 3",
   "language": "python",
   "name": "python3"
  },
  "language_info": {
   "codemirror_mode": {
    "name": "ipython",
    "version": 3
   },
   "file_extension": ".py",
   "mimetype": "text/x-python",
   "name": "python",
   "nbconvert_exporter": "python",
   "pygments_lexer": "ipython3",
   "version": "3.7.6"
  }
 },
 "nbformat": 4,
 "nbformat_minor": 4
}
